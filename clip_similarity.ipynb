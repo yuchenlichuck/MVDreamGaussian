{
 "cells": [
  {
   "cell_type": "markdown",
   "metadata": {
    "id": "BafKS1rR6Mkc"
   },
   "source": [
    "![picture](https://drive.google.com/uc?export=view&id=1eCsjNAtjXuXfqBLxeEnsBpOikUO06msr)\n",
    "\n",
    "\n",
    "\n",
    "<br>\n",
    "\n",
    "---\n",
    "---\n",
    "\n",
    "<div class=\"alert alert-block alert-warning\">\n",
    "<h1><span style=\"color:green\"> Optimizing Text Prompts for Enhanced 3D Generation with DreamGaussian and MVDream: An Experimental Analysis </span><h1>\n",
    "\n",
    "<h2><span style=\"color:green\"> Ablation study of clip similarity </span>\n",
    "</div>\n",
    "\n",
    "---\n",
    "---"
   ]
  },
  {
   "cell_type": "markdown",
   "metadata": {
    "id": "_G99QE8hXQHZ"
   },
   "source": [
    "# Task-01\n"
   ]
  },
  {
   "cell_type": "markdown",
   "metadata": {
    "id": "R777x9Oy25lp"
   },
   "source": [
    "## Task 1.1"
   ]
  },
  {
   "cell_type": "code",
   "execution_count": 10,
   "metadata": {
    "id": "KtL8fpapWlzH"
   },
   "outputs": [
    {
     "name": "stdout",
     "output_type": "stream",
     "text": [
      "Files already downloaded and verified\n",
      "\n",
      "Top-1 Accuracy: 89.18%\n"
     ]
    }
   ],
   "source": [
    "# Task 1.1\n",
    "import os\n",
    "import clip\n",
    "import torch\n",
    "import torchvision\n",
    "from torch.utils.data import DataLoader\n",
    "from torchvision.transforms import Compose, Resize, CenterCrop, ToTensor, Normalize\n",
    "\n",
    "# Load the model\n",
    "device = \"cuda\" if torch.cuda.is_available() else \"cpu\"\n",
    "model, preprocess = clip.load('ViT-B/16', device)\n",
    "\n",
    "test_dataset = torchvision.datasets.CIFAR10(root='cifar10',\n",
    "train=False, download=True, transform=preprocess)\n",
    "classnames = list(test_dataset.class_to_idx.keys())\n",
    "\n",
    "# Apply the transform and create a DataLoader\n",
    "data_loader = DataLoader(test_dataset, batch_size=8, shuffle=False)\n",
    "\n",
    "# Prepare text inputs\n",
    "text_inputs = torch.cat([clip.tokenize(f\"a photo of a {c}\") for c in classnames]).to(device)\n",
    "\n",
    "# Prepare for calculating accuracy\n",
    "correct_predictions = 0\n",
    "total_images = 0\n",
    "\n",
    "# Iterate over the dataset in batches\n",
    "for images, labels in data_loader:\n",
    "    images = images.to(device)\n",
    "    \n",
    "    # Calculate features\n",
    "    with torch.no_grad():\n",
    "        image_features = model.encode_image(images)\n",
    "        text_features = model.encode_text(text_inputs)\n",
    "\n",
    "    # Normalize features\n",
    "    image_features /= image_features.norm(dim=-1, keepdim=True)\n",
    "    text_features /= text_features.norm(dim=-1, keepdim=True)\n",
    "\n",
    "    # Calculate similarity and get the top prediction\n",
    "    similarity = (100.0 * image_features @ text_features.T).softmax(dim=-1)\n",
    "    top_predictions = similarity.argmax(dim=-1)\n",
    "\n",
    "    # Update correct predictions\n",
    "    correct_predictions += (top_predictions == labels.to(device)).sum().item()\n",
    "    total_images += labels.size(0)\n",
    "\n",
    "# Calculate and print the top-1 accuracy\n",
    "accuracy = correct_predictions / total_images\n",
    "print(f\"\\nTop-1 Accuracy: {accuracy:.2%}\")"
   ]
  },
  {
   "cell_type": "code",
   "execution_count": 1,
   "metadata": {},
   "outputs": [
    {
     "data": {
      "application/vnd.jupyter.widget-view+json": {
       "model_id": "27c0fe09ee684ecc925bf61766ab2338",
       "version_major": 2,
       "version_minor": 0
      },
      "text/plain": [
       "Downloading config.json:   0%|          | 0.00/4.19k [00:00<?, ?B/s]"
      ]
     },
     "metadata": {},
     "output_type": "display_data"
    },
    {
     "data": {
      "application/vnd.jupyter.widget-view+json": {
       "model_id": "844376bfae494313af33301e8db125ba",
       "version_major": 2,
       "version_minor": 0
      },
      "text/plain": [
       "Downloading pytorch_model.bin:   0%|          | 0.00/605M [00:00<?, ?B/s]"
      ]
     },
     "metadata": {},
     "output_type": "display_data"
    },
    {
     "data": {
      "application/vnd.jupyter.widget-view+json": {
       "model_id": "5dc04593c729449c8f0f28b70f3d854d",
       "version_major": 2,
       "version_minor": 0
      },
      "text/plain": [
       "Downloading (…)rocessor_config.json:   0%|          | 0.00/316 [00:00<?, ?B/s]"
      ]
     },
     "metadata": {},
     "output_type": "display_data"
    },
    {
     "data": {
      "application/vnd.jupyter.widget-view+json": {
       "model_id": "81457d2cb6cc407fbb759a8495ee86bd",
       "version_major": 2,
       "version_minor": 0
      },
      "text/plain": [
       "Downloading tokenizer_config.json:   0%|          | 0.00/592 [00:00<?, ?B/s]"
      ]
     },
     "metadata": {},
     "output_type": "display_data"
    },
    {
     "data": {
      "application/vnd.jupyter.widget-view+json": {
       "model_id": "7da3ca44b92e4236a91e10be2f2954f8",
       "version_major": 2,
       "version_minor": 0
      },
      "text/plain": [
       "Downloading vocab.json:   0%|          | 0.00/862k [00:00<?, ?B/s]"
      ]
     },
     "metadata": {},
     "output_type": "display_data"
    },
    {
     "data": {
      "application/vnd.jupyter.widget-view+json": {
       "model_id": "084839603a064bf5934d35d890dfd633",
       "version_major": 2,
       "version_minor": 0
      },
      "text/plain": [
       "Downloading merges.txt:   0%|          | 0.00/525k [00:00<?, ?B/s]"
      ]
     },
     "metadata": {},
     "output_type": "display_data"
    },
    {
     "data": {
      "application/vnd.jupyter.widget-view+json": {
       "model_id": "5226da100a144622bcaac8cc0e4f4914",
       "version_major": 2,
       "version_minor": 0
      },
      "text/plain": [
       "Downloading tokenizer.json:   0%|          | 0.00/2.22M [00:00<?, ?B/s]"
      ]
     },
     "metadata": {},
     "output_type": "display_data"
    },
    {
     "data": {
      "application/vnd.jupyter.widget-view+json": {
       "model_id": "d0cedad64e5d4cbea124c59bfaed579f",
       "version_major": 2,
       "version_minor": 0
      },
      "text/plain": [
       "Downloading (…)cial_tokens_map.json:   0%|          | 0.00/389 [00:00<?, ?B/s]"
      ]
     },
     "metadata": {},
     "output_type": "display_data"
    }
   ],
   "source": [
    "from transformers import CLIPProcessor, CLIPModel\n",
    "\n",
    "model = CLIPModel.from_pretrained('openai/clip-vit-base-patch32')\n",
    "processor = CLIPProcessor.from_pretrained('openai/clip-vit-base-patch32')\n"
   ]
  },
  {
   "cell_type": "code",
   "execution_count": 2,
   "metadata": {},
   "outputs": [],
   "source": [
    "import cv2\n",
    "\n",
    "def extract_frames(video_path, num_frames=10):\n",
    "    cap = cv2.VideoCapture(video_path)\n",
    "    frames = []\n",
    "    frame_count = int(cap.get(cv2.CAP_PROP_FRAME_COUNT))\n",
    "    step = max(1, frame_count // num_frames)\n",
    "    \n",
    "    for i in range(0, frame_count, step):\n",
    "        cap.set(cv2.CAP_PROP_POS_FRAMES, i)\n",
    "        ret, frame = cap.read()\n",
    "        if ret:\n",
    "            frames.append(frame)\n",
    "        else:\n",
    "            break\n",
    "    cap.release()\n",
    "    return frames\n",
    "    \n",
    "import torch\n",
    "\n",
    "def calculate_clip_similarity(text, frames, model, processor):\n",
    "    inputs = processor(text=text, images=frames, return_tensors=\"pt\", padding=True)\n",
    "    outputs = model(**inputs)\n",
    "    text_features = outputs.text_embeds\n",
    "    image_features = outputs.image_embeds\n",
    "\n",
    "    # 使用余弦相似度\n",
    "    cos = torch.nn.CosineSimilarity(dim=1)\n",
    "    similarity = cos(text_features, image_features.mean(dim=0))  # 取帧特征的平均值\n",
    "    return similarity.item()\n",
    "\n",
    "\n"
   ]
  },
  {
   "cell_type": "code",
   "execution_count": 3,
   "metadata": {},
   "outputs": [],
   "source": [
    "hard_text=['A detailed image of an antique hardcover book with ornate golden embossing on the spine and a slightly worn cover, lying open to reveal crisp, aged pages filled with classic typeface, literature',\n",
    "'An elegantly crafted fountain pen with a glossy ebony barrel and a fine gold nib, depicted in the act of writing flowing script on a piece of parchment, writing instrument',\n",
    "'A hyper-realistic image of a shiny red apple, complete with a perfectly detailed stem and a single leaf, the surface reflecting a subtle light, fruit',\n",
    "'A mechanical keyboard with individual RGB lighting under each key, designed for precision typing and gaming, shown in a dimly lit room enhancing the colorful backlighting, technology',\n",
    "'An ergonomic optical computer mouse tailored for gaming, featuring customizable side buttons and a glowing RGB light strip, technology',\n",
    "'A modern office chair with high-tech mesh fabric for breathability, adjustable armrests, and lumbar support, designed for comfort and efficiency in a stylish office setting, furniture',\n",
    "'A spacious wooden desk with a smooth finish and minimalist design, equipped with compartments for organizing, set up in a well-lit study room, furniture',\n",
    "'A sleek desk lamp with an LED light, articulated arm, and touch-sensitive control panel that provides adjustable brightness for a home office environment, lighting',\n",
    "'A durable hiking backpack made from high-strength, water-resistant material, featuring multiple compartments, hydration pack access, and reflective safety strips, ideal for outdoor adventures, equipment',\n",
    "'A rugged mountain bicycle with a lightweight aluminum frame, hydraulic disc brakes, and aggressive tread on tires, captured on a rocky trail with a backdrop of mountains, vehicle',\n",
    "'A high-performance cycling helmet with aerodynamic design, integrated ventilation holes, and a visor for sun protection, essential for road safety, protective gear',\n",
    "'A pair of premium leather gloves, intricately stitched and lined with soft fleece for warmth, shown gripping a wooden walking stick, apparel',\n",
    "'A pair of robust hiking boots crafted from waterproof leather with reinforced soles for superior traction on uneven terrain, essential for mountain trekking, footwear',\n",
    "'A luxurious woolen scarf in a deep burgundy color, woven with a subtle herringbone pattern, draped elegantly over a coat in a wintery scene, accessory',\n",
    "'A classic baseball cap made from durable fabric, featuring a curved brim and an adjustable strap at the back, embroidered with a popular sports team logo, headwear',\n",
    "'A professional soccer ball designed with pentagonal and hexagonal panels, stitched together to ensure optimal performance and durability on a grassy field, sports equipment',\n",
    "'A handcrafted wooden baseball bat, polished to a high sheen, shown in mid-swing hitting a baseball in an action-packed game scenario, sports equipment',\n",
    "'An acoustic guitar with a mahogany body and spruce top, strung with high-quality nylon strings, resting on a wooden stand in a cozy room filled with musical memorabilia, musical instrument',\n",
    "'A majestic grand piano finished in glossy black lacquer, with the lid open to show its intricate internal strings and hammers, set on a concert stage under a spotlight, musical instrument',\n",
    "'A professional bass drum as part of a larger drum set, featuring a high-gloss finish and chrome hardware, captured with sticks mid-air, ready to strike in a rhythmic beat, musical instrument',\n",
    "'A classic violin crafted from aged wood, with a polished finish and fine strings, accompanied by a bow, resting on a velvet-lined case, highlighting its elegance and readiness for a performance, musical instrument',\n",
    "'A brass trumpet with a polished, reflective surface, showcasing the intricate valves and mouthpiece, set against a backdrop of sheet music, ready for a jazz performance, musical instrument',\n",
    "'An alto saxophone with a golden finish, detailed engraving on the bell, and leather pads, displayed in a music room setting with soft lighting, emphasizing its sleek design, musical instrument',\n",
    "'A high-end studio microphone with a large diaphragm and pop filter, mounted on a boom stand in a soundproof recording studio, essential for capturing clear and detailed vocal performances, audio equipment',\n",
    "'A portable Bluetooth speaker with a durable, waterproof exterior and powerful audio drivers, shown playing music on a sandy beach at sunset, audio equipment','A sleek modern laptop with a high-resolution display and a thin, lightweight design, featuring cutting-edge hardware optimized for professional software applications, shown on a clean, minimalist desk, technology',\n",
    "'A state-of-the-art digital tablet with a large, vibrant screen, displaying a creative drawing app, held by an artist in a studio filled with natural light, technology',\n",
    "'A latest model smartphone featuring an edge-to-edge display with no bezels, a triple-camera system on the back, and facial recognition technology, shown in a hand against a cityscape, technology',\n",
    "'A professional digital camera with a large sensor and a telephoto lens, mounted on a tripod overlooking a scenic landscape at golden hour, capturing stunning details, technology',\n",
    "'An astronomical telescope set against the backdrop of a starry night sky, with a detailed viewfinder and precision adjustment knobs, aimed at uncovering the mysteries of distant galaxies, scientific instrument',\n",
    "'A vintage wall clock with Roman numerals and ornate hands, housed in a dark wooden frame, hanging on a pastel-colored wall in a classic living room setting, home decor',\n",
    "'A luxury wristwatch with a stainless steel band, sapphire crystal face, and a sophisticated chronograph display, shown close-up on a wrist dressed in a fine suit, accessory',\n",
    "'An elegant silver bracelet with intricate links and a delicate clasp, adorned with small diamonds that catch the light beautifully, displayed on a velvet cushion, jewelry',\n",
    "'A stunning gold necklace featuring a fine chain and a pendant with an elaborate design, showcased on a mannequin with an evening gown, jewelry',\n",
    "'A close-up image of a diamond ring with a large, radiant-cut stone set in a platinum band, surrounded by smaller pavé diamonds, presented in an open jewelry box, luxury item',\n",
    "'A pair of hoop earrings made from polished gold, each adorned with tiny, sparkling gemstones, displayed against a dark, textured background to highlight their elegance, jewelry',\n",
    "'A pair of aviator sunglasses with polarized lenses and a metal frame, resting on a rocky surface under bright sunlight, fashion accessory',\n",
    "'A pair of high-performance binoculars with adjustable zoom and focus, used for bird watching, shown in a natural setting with a clear view of distant mountains, outdoor equipment',\n",
    "'A detailed world map with colorful political boundaries and major cities marked, spread out on a table with a magnifying glass and other travel essentials, educational tool',\n",
    "'An old-fashioned orienteering compass with a brass casing and a floating needle, lying next to a map on a wooden table in a forest setting, navigation tool',\n",
    "'A robust LED flashlight emitting a powerful beam of light, designed for durability and long battery life, shown illuminating a dark path at night, safety equipment',\n",
    "'A high-quality camping tent set up in a serene forest location, with a waterproof canopy and room for two, shown at dusk with a cozy interior glow, outdoor shelter',\n",
    "'A mummy sleeping bag designed for extreme temperatures, shown partially unzipped and inviting, laid out inside a tent with a view of the starry sky, camping gear',\n",
    "'A rustic stone fireplace with a roaring fire, providing warmth and light in a cozy cabin setting, the mantelpiece decorated with family photos and vintage ornaments, home comfort',\n",
    "'A charcoal grill in action, with smoky flavors rising from cooking steaks, depicted in a summer backyard setting with friends gathered around, cooking equipment',\n",
    "'A stainless steel kettle with a sleek, modern design, boiling water with visible steam, placed on an induction cooktop in a contemporary kitchen, kitchen appliance',\n",
    "'A ceramic coffee mug filled with steaming hot coffee, the surface adorned with a quaint café logo, positioned on a rustic wooden table alongside a croissant, beverage container',\n",
    "'A porcelain plate with a delicate floral pattern, set on a dining table with silver cutlery and crystal glasses, ready for an elegant meal, tableware',\n",
    "'A ceramic soup bowl filled with homemade vegetable soup, steam rising, accompanied by a spoon and fresh bread on a kitchen counter, kitchenware',\n",
    "'A stainless steel spoon with a polished finish, designed with an ergonomic handle, resting beside a bowl of cereal with milk, captured in the morning light, kitchen utensil']"
   ]
  },
  {
   "cell_type": "code",
   "execution_count": 4,
   "metadata": {},
   "outputs": [],
   "source": [
    "easy_text=[\n",
    "'a hardcover book',\n",
    "'a fountain pen',\n",
    "'a shiny red apple',\n",
    "'a mechanical keyboard',\n",
    "'an optical computer mouse',\n",
    "'a modern office chair',\n",
    "'a wooden desk',\n",
    "'a desk lamp',\n",
    "'a hiking backpack',\n",
    "'a mountain bicycle',\n",
    "'a cycling helmet',\n",
    "'a pair of leather gloves',\n",
    "'a pair of hiking boots',\n",
    "'a woolen scarf',\n",
    "'a baseball cap',\n",
    "'a soccer ball',\n",
    "'a baseball bat',\n",
    "'an acoustic guitar',\n",
    "'a grand piano',\n",
    "'a bass drum',\n",
    "'a classic violin',\n",
    "'a brass trumpet',\n",
    "'an alto saxophone',\n",
    "'a studio microphone',\n",
    "'a portable speaker',\n",
    "'a modern laptop',\n",
    "'a digital tablet',\n",
    "'a latest model smartphone',\n",
    "'a digital camera',\n",
    "'an astronomical telescope',\n",
    "'a wall clock',\n",
    "'a wristwatch',\n",
    "'a silver bracelet',\n",
    "'a gold necklace',\n",
    "'a diamond ring',\n",
    "'a pair of hoop earrings',\n",
    "'a pair of aviator sunglasses',\n",
    "'a pair of binoculars',\n",
    "'a world map',\n",
    "'an orienteering compass',\n",
    "'a LED flashlight',\n",
    "'a camping tent',\n",
    "'a mummy sleeping bag',\n",
    "'a stone fireplace',\n",
    "'a charcoal grill',\n",
    "'a stainless steel kettle',\n",
    "'a ceramic coffee mug',\n",
    "'a porcelain plate',\n",
    "'a ceramic soup bowl',\n",
    "'a stainless steel spoon',\n",
    "           \n",
    "]"
   ]
  },
  {
   "cell_type": "code",
   "execution_count": 5,
   "metadata": {},
   "outputs": [],
   "source": [
    "object_label=['book',\n",
    "'pen',\n",
    "'apple',\n",
    "'keyboard',\n",
    "'mouse',\n",
    "'chair',\n",
    "'desk',\n",
    "'lamp',\n",
    "'backpack',\n",
    "'bicycle',\n",
    "'helmet',\n",
    "'glove',\n",
    "'boot',\n",
    "'scarf',\n",
    "'hat',\n",
    "'ball',\n",
    "'bat',\n",
    "'guitar',\n",
    "'piano',\n",
    "'drum',\n",
    "'violin',\n",
    "'trumpet',\n",
    "'saxophone',\n",
    "'microphone',\n",
    "'speaker',\n",
    "'laptop',\n",
    "'tablet',\n",
    "'smartphone',\n",
    "'camera',\n",
    "'telescope',\n",
    "'clock',\n",
    "'watch',\n",
    "'bracelet',\n",
    "'necklace',\n",
    "'ring',\n",
    "'earring',\n",
    "'sunglasses',\n",
    "'binoculars',\n",
    "'map',\n",
    "'compass',\n",
    "'flashlight',\n",
    "'tent',\n",
    "'sleeping bag',\n",
    "'fireplace',\n",
    "'grill',\n",
    "'kettle',\n",
    "'mug',\n",
    "'plate',\n",
    "'bowl',\n",
    "'spoon']"
   ]
  },
  {
   "cell_type": "code",
   "execution_count": 10,
   "metadata": {},
   "outputs": [
    {
     "data": {
      "text/plain": [
       "'ssd'"
      ]
     },
     "execution_count": 10,
     "metadata": {},
     "output_type": "execute_result"
    }
   ],
   "source": [
    "'ssd_easd.mp4'.split('_')[0]"
   ]
  },
  {
   "cell_type": "code",
   "execution_count": null,
   "metadata": {
    "is_executing": true
   },
   "outputs": [],
   "source": [
    "import os\n",
    "def process_folder( models_folder):\n",
    "    results = []\n",
    "\n",
    "    models = sorted(os.listdir(models_folder))\n",
    "    \n",
    "    for  model_file in zip(models):\n",
    "        text_description=model_file[0].split('_')[0]\n",
    "        frames = extract_frames(os.path.join(models_folder, model_file[0]))\n",
    "        similarity = calculate_clip_similarity(text_description, frames, model, processor)\n",
    "        results.append(( text_description, similarity))\n",
    "    \n",
    "    return results\n",
    "\n",
    "# Paths to the folders\n",
    "easy_texts_folder = 'path_to_easy_texts'\n",
    "easy_models_folder = '/home/dubaiprince/Projects/dreamgaussian/videos_easy/'\n",
    "hard_texts_folder = 'path_to_hard_texts'\n",
    "hard_models_folder = '/home/dubaiprince/Projects/dreamgaussian/videos_hard/'\n",
    "\n",
    "# Calculate similarities\n",
    "easy_results = process_folder(easy_models_folder)\n",
    "hard_results = process_folder( hard_models_folder)\n"
   ]
  },
  {
   "cell_type": "code",
   "execution_count": 20,
   "metadata": {},
   "outputs": [
    {
     "data": {
      "text/plain": [
       "[('apple', 0.2611784040927887),\n",
       " ('binoculars', 0.2567083537578583),\n",
       " ('book', 0.20973052084445953),\n",
       " ('bracelet', 0.27281197905540466),\n",
       " ('camera', 0.26843157410621643),\n",
       " ('chair', 0.3069768249988556),\n",
       " ('clock', 0.22877240180969238),\n",
       " ('desk', 0.23007412254810333),\n",
       " ('earring', 0.23211272060871124),\n",
       " ('keyboard', 0.24141032993793488),\n",
       " ('lamp', 0.28340527415275574),\n",
       " ('laptop', 0.24705564975738525),\n",
       " ('map', 0.24516010284423828),\n",
       " ('microphone', 0.30772241950035095),\n",
       " ('mouse', 0.2437359243631363),\n",
       " ('necklace', 0.22683866322040558),\n",
       " ('pen', 0.20748871564865112),\n",
       " ('ring', 0.26479920744895935),\n",
       " ('saxophone', 0.2859470844268799),\n",
       " ('smartphone', 0.24948839843273163),\n",
       " ('speaker', 0.22103001177310944),\n",
       " ('sunglasses', 0.2452785074710846),\n",
       " ('tablet', 0.28262531757354736),\n",
       " ('telescope', 0.24150004982948303),\n",
       " ('trumpet', 0.2613953649997711),\n",
       " ('watch', 0.24420487880706787)]"
      ]
     },
     "execution_count": 20,
     "metadata": {},
     "output_type": "execute_result"
    }
   ],
   "source": [
    "easy_results"
   ]
  },
  {
   "cell_type": "code",
   "execution_count": 19,
   "metadata": {},
   "outputs": [
    {
     "data": {
      "text/plain": [
       "[('apple', 0.27627652883529663),\n",
       " ('backpack', 0.2935245931148529),\n",
       " ('ball', 0.2972044348716736),\n",
       " ('bicycle', 0.20271611213684082),\n",
       " ('binoculars', 0.27071303129196167),\n",
       " ('book', 0.20371194183826447),\n",
       " ('boot', 0.2960608899593353),\n",
       " ('bowl', 0.30212628841400146),\n",
       " ('bracelet', 0.27104470133781433),\n",
       " ('chair', 0.2997821569442749),\n",
       " ('clock', 0.23116672039031982),\n",
       " ('compass', 0.24078026413917542),\n",
       " ('desk', 0.2297823131084442),\n",
       " ('earring', 0.24208350479602814),\n",
       " ('fireplace', 0.268025279045105),\n",
       " ('flashlight', 0.2628215253353119),\n",
       " ('glove', 0.2628844678401947),\n",
       " ('grill', 0.2366895079612732),\n",
       " ('hat', 0.27659159898757935),\n",
       " ('helmet', 0.29985934495925903),\n",
       " ('kettle', 0.27119749784469604),\n",
       " ('keyboard', 0.23886309564113617),\n",
       " ('lamp', 0.29024890065193176),\n",
       " ('map', 0.22683948278427124),\n",
       " ('mouse', 0.26060083508491516),\n",
       " ('mug', 0.27342525124549866),\n",
       " ('necklace', 0.22034253180027008),\n",
       " ('pen', 0.2623502314090729),\n",
       " ('plate', 0.2567319869995117),\n",
       " ('ring', 0.24956852197647095),\n",
       " ('scarf', 0.2757863700389862),\n",
       " ('speaker', 0.24248702824115753),\n",
       " ('spoon', 0.2358582317829132),\n",
       " ('sunglasses', 0.22844330966472626),\n",
       " ('tent', 0.28727471828460693),\n",
       " ('watch', 0.23491506278514862)]"
      ]
     },
     "execution_count": 19,
     "metadata": {},
     "output_type": "execute_result"
    }
   ],
   "source": [
    "hard_results"
   ]
  },
  {
   "cell_type": "code",
   "execution_count": 6,
   "metadata": {},
   "outputs": [
    {
     "name": "stdout",
     "output_type": "stream",
     "text": [
      "Similarity: 0.2737174928188324\n"
     ]
    }
   ],
   "source": [
    "video_path = '/home/dubaiprince/Projects/dreamgaussian/videos_easy/apple_easy.mp4'\n",
    "input_text = 'a shiny red apple'\n",
    "frames = extract_frames(video_path)\n",
    "similarity = calculate_clip_similarity(input_text, frames, model, processor)\n",
    "print(\"Similarity:\", similarity)"
   ]
  },
  {
   "cell_type": "code",
   "execution_count": 7,
   "metadata": {},
   "outputs": [
    {
     "name": "stdout",
     "output_type": "stream",
     "text": [
      "Similarity: 0.26818186044692993\n"
     ]
    }
   ],
   "source": [
    "video_path = '/home/dubaiprince/Projects/dreamgaussian/videos_hard/apple_hard.mp4'\n",
    "input_text = 'A hyper-realistic image of a shiny red apple, complete with a perfectly detailed stem and a single leaf, the surface reflecting a subtle light, fruit'\n",
    "frames = extract_frames(video_path)\n",
    "similarity = calculate_clip_similarity(input_text, frames, model, processor)\n",
    "print(\"Similarity:\", similarity)"
   ]
  },
  {
   "cell_type": "markdown",
   "metadata": {},
   "source": [
    "### Note\n",
    "Export this notebook to PDF and append the PDF to your report after references."
   ]
  }
 ],
 "metadata": {
  "colab": {
   "provenance": []
  },
  "kernelspec": {
   "display_name": "threestudio",
   "language": "python",
   "name": "threestudio"
  },
  "language_info": {
   "codemirror_mode": {
    "name": "ipython",
    "version": 3
   },
   "file_extension": ".py",
   "mimetype": "text/x-python",
   "name": "python",
   "nbconvert_exporter": "python",
   "pygments_lexer": "ipython3",
   "version": "3.9.18"
  },
  "varInspector": {
   "cols": {
    "lenName": 16,
    "lenType": 16,
    "lenVar": 40
   },
   "kernels_config": {
    "python": {
     "delete_cmd_postfix": "",
     "delete_cmd_prefix": "del ",
     "library": "var_list.py",
     "varRefreshCmd": "print(var_dic_list())"
    },
    "r": {
     "delete_cmd_postfix": ") ",
     "delete_cmd_prefix": "rm(",
     "library": "var_list.r",
     "varRefreshCmd": "cat(var_dic_list()) "
    }
   },
   "types_to_exclude": [
    "module",
    "function",
    "builtin_function_or_method",
    "instance",
    "_Feature"
   ],
   "window_display": false
  }
 },
 "nbformat": 4,
 "nbformat_minor": 4
}
